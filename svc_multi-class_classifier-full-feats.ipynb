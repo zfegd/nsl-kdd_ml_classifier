{
 "cells": [
  {
   "cell_type": "code",
   "execution_count": 1,
   "metadata": {},
   "outputs": [],
   "source": [
    "import pandas as pd\n",
    "import numpy as np\n",
    "\n",
    "pd.set_option('display.max_columns', 100)\n",
    "\n",
    "from sklearn.svm import SVC\n",
    "from sklearn.utils import shuffle\n",
    "\n",
    "\n",
    "# TODO: Change to larger training set\n",
    "\n",
    "train_set = pd.read_csv('../Small Training Set.csv', header=None)\n",
    "\n",
    "# train_set = pd.read_csv('../20 Percent Training Set.csv', header=None)\n",
    "# train_set = pd.read_csv('../KDDTrain+.csv', header=None)\n",
    "\n",
    "fn = pd.read_csv('../Field Names.csv', header=None)\n",
    "\n",
    "fn2 = pd.DataFrame([['attack_type', 'symbolic'],['??','continuous']])\n",
    "fn = fn.append(fn2, ignore_index=True)\n",
    "\n",
    "cont_feats = fn.loc[fn[1] == 'continuous']\n",
    "cont_feats = cont_feats.drop(columns=[1])\n",
    "\n",
    "fn = fn.drop(columns=[1])\n",
    "\n",
    "dfhd = fn[0].tolist()\n",
    "train_set.columns = dfhd\n",
    "\n",
    "cols = train_set.columns.tolist()\n",
    "cols = cols[-2:-1] + cols[:-2] + cols[-1:]\n",
    "train_set = train_set[cols]\n",
    "\n",
    "att_types = train_set['attack_type']\n",
    "\n",
    "# train_set.sort_values('attack_type')"
   ]
  },
  {
   "cell_type": "code",
   "execution_count": 2,
   "metadata": {},
   "outputs": [],
   "source": [
    "# ENUMERATING SERVICE TYPE\n",
    "import copy\n",
    "\n",
    "service_list = train_set['service'].unique()\n",
    "\n",
    "try:\n",
    "    service_list2\n",
    "except NameError:\n",
    "    service_list2 = copy.deepcopy(service_list)    \n",
    "    svc_enum_data = {'service': service_list}\n",
    "    service_enumerations = pd.DataFrame(data=svc_enum_data)\n",
    "    service_enumerations.to_csv('Service_enums.csv')\n",
    "\n",
    "enumerated_service_list = [x for x in range(len(service_list))]\n",
    "\n",
    "\n",
    "train_set = train_set.replace(service_list,enumerated_service_list)\n"
   ]
  },
  {
   "cell_type": "code",
   "execution_count": 3,
   "metadata": {},
   "outputs": [],
   "source": [
    "# ENUMERATING PROTOCOL TYPE\n",
    "\n",
    "prot_list = train_set['protocol_type'].unique()\n",
    "\n",
    "try:\n",
    "    prot_list2\n",
    "except NameError:\n",
    "    prot_list2 = copy.deepcopy(prot_list)    \n",
    "    prot_enum_data = {'protocol_type': prot_list}\n",
    "    prot_enumerations = pd.DataFrame(data=prot_enum_data)\n",
    "    prot_enumerations.to_csv('Prot_enums.csv')\n",
    "\n",
    "enumerated_prot_list = [x for x in range(len(prot_list))]\n",
    "\n",
    "\n",
    "train_set = train_set.replace(prot_list,enumerated_prot_list)\n"
   ]
  },
  {
   "cell_type": "code",
   "execution_count": 4,
   "metadata": {},
   "outputs": [],
   "source": [
    "# ENUMERATING FLAG TYPE\n",
    "\n",
    "flag_list = train_set['flag'].unique()\n",
    "\n",
    "try:\n",
    "    flag_list2\n",
    "except NameError:\n",
    "    flag_list2 = copy.deepcopy(flag_list)    \n",
    "    flag_enum_data = {'flag': flag_list}\n",
    "    flag_enumerations = pd.DataFrame(data=flag_enum_data)\n",
    "    flag_enumerations.to_csv('Flag_enums.csv')\n",
    "\n",
    "enumerated_flag_list = [x for x in range(len(flag_list))]\n",
    "\n",
    "\n",
    "train_set = train_set.replace(flag_list,enumerated_flag_list)"
   ]
  },
  {
   "cell_type": "code",
   "execution_count": 5,
   "metadata": {},
   "outputs": [
    {
     "data": {
      "text/plain": [
       "SVC(C=1.0, cache_size=200, class_weight=None, coef0=0.0,\n",
       "  decision_function_shape='ovr', degree=3, gamma='auto', kernel='linear',\n",
       "  max_iter=-1, probability=False, random_state=None, shrinking=True,\n",
       "  tol=0.001, verbose=False)"
      ]
     },
     "execution_count": 5,
     "metadata": {},
     "output_type": "execute_result"
    }
   ],
   "source": [
    "clf = SVC(kernel='linear')\n",
    "# clf = SVC()\n",
    "\n",
    "train_features = train_set.drop(columns=['attack_type'])\n",
    "train_target = train_set['attack_type']\n",
    "\n",
    "from sklearn import preprocessing\n",
    "\n",
    "# Use a min-max scaler?\n",
    "\n",
    "# min_max_scaler = preprocessing.MinMaxScaler()\n",
    "\n",
    "# train_feats_scaled = min_max_scaler.fit_transform(train_features.values)\n",
    "# train_features.iloc[:,:] = train_feats_scaled\n",
    "\n",
    "# scaler = preprocessing.MaxAbsScaler()\n",
    "\n",
    "# train_feats_scaled = scaler.fit_transform(train_features.values)\n",
    "# train_features.iloc[:,:] = train_feats_scaled\n",
    "\n",
    "\n",
    "clf.fit(train_features, train_target)"
   ]
  },
  {
   "cell_type": "code",
   "execution_count": 10,
   "metadata": {},
   "outputs": [
    {
     "data": {
      "text/plain": [
       "0.7064676616915423"
      ]
     },
     "execution_count": 10,
     "metadata": {},
     "output_type": "execute_result"
    }
   ],
   "source": [
    "test_set = pd.read_csv('../KDDTest+.csv', header=None)\n",
    "test_set.columns = dfhd\n",
    "\n",
    "test_set = test_set[cols]\n",
    "\n",
    "test_set = test_set.replace(service_list2,enumerated_service_list)\n",
    "test_set['service'] = test_set['service'].apply(lambda x: '-1' if type(x) is str else x)\n",
    "\n",
    "test_set = test_set.replace(prot_list2, enumerated_prot_list)\n",
    "test_set['protocol_type'] = test_set['protocol_type'].apply(lambda x: '-1' if type(x) is str else x)\n",
    "\n",
    "test_set = test_set.replace(flag_list2, enumerated_flag_list)\n",
    "test_set['flag'] = test_set['flag'].apply(lambda x: '-1' if type(x) is str else x)\n",
    "\n",
    "# Mini test_set as not full training set used\n",
    "test_set = shuffle(test_set)\n",
    "test_set = test_set[:201]\n",
    "\n",
    "\n",
    "test_features = test_set.drop(columns=['attack_type'])\n",
    "test_target = test_set['attack_type']\n",
    "\n",
    "\n",
    "# test_feats_scaled = min_max_scaler.fit_transform(test_features.values)\n",
    "# test_features.iloc[:,:] = test_feats_scaled\n",
    "\n",
    "# test_feats_scaled = scaler.fit_transform(test_features.values)\n",
    "# test_features.iloc[:,:] = test_feats_scaled\n",
    "\n",
    "\n",
    "\n",
    "pred_list = clf.predict(test_features)\n",
    "\n",
    "np.mean( pred_list == test_target)"
   ]
  },
  {
   "cell_type": "code",
   "execution_count": null,
   "metadata": {},
   "outputs": [],
   "source": []
  }
 ],
 "metadata": {
  "kernelspec": {
   "display_name": "Python 2",
   "language": "python",
   "name": "python2"
  },
  "language_info": {
   "codemirror_mode": {
    "name": "ipython",
    "version": 2
   },
   "file_extension": ".py",
   "mimetype": "text/x-python",
   "name": "python",
   "nbconvert_exporter": "python",
   "pygments_lexer": "ipython2",
   "version": "2.7.15"
  }
 },
 "nbformat": 4,
 "nbformat_minor": 2
}
